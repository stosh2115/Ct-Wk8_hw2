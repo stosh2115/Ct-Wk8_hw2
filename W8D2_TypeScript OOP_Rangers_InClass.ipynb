{
 "cells": [
  {
   "cell_type": "markdown",
   "id": "7e8093d5-f4e7-41c8-92aa-45cfa711e0f8",
   "metadata": {},
   "source": [
    "# Week 8 Day 2 - TypeScript OOP"
   ]
  },
  {
   "cell_type": "markdown",
   "id": "1644759d",
   "metadata": {},
   "source": [
    "[Object Oriented Programming](#oop)<br>\n",
    "&emsp;[Classes](#classes)<br>\n",
    "&emsp;&emsp;[Read Only Properties](#rop)<br>\n",
    "&emsp;&emsp;[Optional Properties](#op)<br>\n",
    "&emsp;&emsp;[Access Modifiers](#access)<br>\n",
    "&emsp;&emsp;[Declaring Properties in Constructor](#conprop)<br>\n",
    "&emsp;&emsp;[Getters](#getter)<br>\n",
    "&emsp;&emsp;[Setters](#setter)<br>\n",
    "&emsp;&emsp;[Index Signatures](#idxsign)<br>\n",
    "&emsp;&emsp;[Static](#static)<br>\n",
    "&emsp;[Inheritance](#inherit)<br>\n",
    "&emsp;&emsp;[Method Overrides](#methover)<br>\n",
    "&emsp;&emsp;[Override Keyword](#overrride)<br>\n",
    "&emsp;&emsp;[Polymorphism](#polym)<br>\n",
    "&emsp;[Design Patterns](#dp)<br>\n",
    "&emsp;[Abstract Classes](#abs)<br>\n",
    "&emsp;&emsp;[Flying Ducks](#fly)<br>\n",
    "&emsp;&emsp;[Decoy Ducks](#decoy)<br>\n",
    "&emsp;&emsp;[Exercise #1](#ice1)<br>\n",
    "&emsp;[Interfaces](#interfaces)<br>\n",
    "&emsp;&emsp;[Exercise #2](#ice2)<br>\n",
    "&emsp;&emsp;[Rubber Duck / Final Pattern](#rubber)<br>\n",
    "&emsp;&emsp;[More On Polymorphism](#mpoly)<br>\n",
    "&emsp;&emsp;[Programming to Interface](#ptoi)<br>\n",
    "&emsp;&emsp;[Extending Interfaces](#xi)<br>\n",
    "[Generics](#gen)<br>\n",
    "&emsp;[Generic Functions](#gf)<br>\n",
    "&emsp;[Generic Classes](#gc)<br>\n",
    "&emsp;[Multiple Generics](#mg)<br>\n",
    "&emsp;[Generic Interfaces](#gi)<br>\n",
    "&emsp;[Generic Constraints](#gcon)<br>\n",
    "&emsp;[keyof](#keyof)<br>\n",
    "&emsp;[Type Mapping](#typemap)<br>\n",
    "&emsp;[Optional&lt;T&gt;](#optgen)<br>\n",
    "&emsp;[Read Only&lt;T&gt;](#rogen)<br>\n",
    "&emsp;[Built In Utility Classes](#util)<br>\n",
    "[Homework](#hw)<br>\n",
    "\n",
    "\n",
    "\n",
    "\n",
    "\n",
    "\n",
    "\n",
    "\n",
    "\n",
    "\n",
    "\n",
    "\n"
   ]
  },
  {
   "cell_type": "markdown",
   "id": "910c27b6",
   "metadata": {},
   "source": [
    "<a id=\"oop\"></a>\n",
    "# Object Oriented Programming"
   ]
  },
  {
   "cell_type": "markdown",
   "id": "fa6b48ea",
   "metadata": {},
   "source": [
    "Object-oriented programming (OOP) is a programming paradigm that focuses on the organization and manipulation of data as objects, rather than simply processing logic or functions. Good OOP practices involve designing reusable and extensible code by creating classes, interfaces, and abstract classes.\n",
    "\n",
    "While some programming languages like Java are purely OOP, others like Typescript combine OOP principles with scripting capabilities. In OOP, a model is designed to represent a real-life entity, and then that model is used to create different but similar objects. For example, a Car can be considered a model that defines the properties and behaviors of a generic car, and a specific car like a Ford Ranger can be an instance of that model that behaves like all other cars but may have its own unique characteristics."
   ]
  },
  {
   "cell_type": "markdown",
   "id": "becd1b0e",
   "metadata": {},
   "source": [
    "<a id=\"classes\"></a>\n",
    "\n",
    "## Classes"
   ]
  },
  {
   "cell_type": "markdown",
   "id": "1d92e4d7",
   "metadata": {},
   "source": [
    "To define the types of your properties, you write them at the top of the class and then using the `this` keyword you can assign them in the constructor"
   ]
  },
  {
   "cell_type": "code",
   "execution_count": 3,
   "id": "f5ee7e3a",
   "metadata": {
    "tags": []
   },
   "outputs": [],
   "source": [
    "class Car{\n",
    "    //define our types and their properties\n",
    "    make: string\n",
    "    model: string\n",
    "    year: number\n",
    "    \n",
    "    //the constructor to JS/JS is init to python\n",
    "    constructor(make: string, model: string, year: number){\n",
    "        this.make = make \n",
    "        this.model = model\n",
    "        this.year = year\n",
    "    }\n",
    "    \n",
    "//     defining behavoirs/methods\n",
    "    drive(miles: number):void{\n",
    "        console.log(`You drove ${miles} miles! Nice Job!`)\n",
    "    }\n",
    "}\n",
    "\n",
    "// instantiate an object from the car class\n",
    "let suburu = new Car('suburu', 'forrester',2024)"
   ]
  },
  {
   "cell_type": "code",
   "execution_count": 4,
   "id": "c21d23f4",
   "metadata": {
    "tags": []
   },
   "outputs": [
    {
     "name": "stdout",
     "output_type": "stream",
     "text": [
      "You drove 20 miles! Nice Job!\n"
     ]
    }
   ],
   "source": [
    "suburu.drive(20)"
   ]
  },
  {
   "cell_type": "markdown",
   "id": "98568e5d",
   "metadata": {},
   "source": [
    "<a id=\"rop\"></a>\n",
    "\n",
    "### Read Only Properties"
   ]
  },
  {
   "cell_type": "markdown",
   "id": "7759c095",
   "metadata": {},
   "source": [
    "Since IDs should never change lets make a readonly ID on our Car Class"
   ]
  },
  {
   "cell_type": "code",
   "execution_count": 6,
   "id": "d39d6a03",
   "metadata": {
    "tags": []
   },
   "outputs": [],
   "source": [
    "class Car{\n",
    "    //define the types of the properties\n",
    "    readonly id:number\n",
    "    make: string\n",
    "    model: string\n",
    "    year: number\n",
    "    \n",
    "    constructor(id:number, make: string, model: string, year: number){\n",
    "        //assign the properties\n",
    "        this.id=id\n",
    "        this.make=make\n",
    "        this.model=model\n",
    "        this.year=year\n",
    "    }\n",
    "    \n",
    "    drive(miles:Number):void{\n",
    "        console.log(\"You drove \", miles, \"miles\")\n",
    "    }\n",
    "}\n",
    "    \n",
    "\n",
    "\n",
    "let ferrari = new Car(1, 'ferrari', 'purosangue', 2024)"
   ]
  },
  {
   "cell_type": "code",
   "execution_count": 7,
   "id": "c8ad3704",
   "metadata": {
    "tags": []
   },
   "outputs": [
    {
     "name": "stderr",
     "output_type": "stream",
     "text": [
      "1:9 - Cannot assign to 'id' because it is a read-only property.\n"
     ]
    }
   ],
   "source": [
    "ferrari.id = 2"
   ]
  },
  {
   "cell_type": "markdown",
   "id": "bf661f70",
   "metadata": {},
   "source": [
    "<a id=\"op\"></a>\n",
    "\n",
    "### Optional Properties"
   ]
  },
  {
   "cell_type": "markdown",
   "id": "e22c270c",
   "metadata": {},
   "source": [
    "Lets give the car have an optional nickname like Kitt, or Herbie.  Not every car will have such a cool nickname"
   ]
  },
  {
   "cell_type": "code",
   "execution_count": 9,
   "id": "dc729b95",
   "metadata": {
    "tags": []
   },
   "outputs": [],
   "source": [
    "class Car{\n",
    "    //define the types of the properties\n",
    "    readonly id:number\n",
    "    make: string\n",
    "    model: string\n",
    "    year: number\n",
    "    nickname?: string\n",
    "    \n",
    "    constructor(id:number, make: string, model: string, year: number, nickname?: string){\n",
    "        //assign the properties\n",
    "        this.id=id\n",
    "        this.make=make\n",
    "        this.model=model\n",
    "        this.year=year\n",
    "    }\n",
    "    \n",
    "    drive(miles:Number):void{\n",
    "        console.log(\"You drove \", miles, \"miles\")\n",
    "    }\n",
    "}\n",
    "\n",
    "let tesla = new Car(2,'tesla', 'CyberTruck', 2024)"
   ]
  },
  {
   "cell_type": "code",
   "execution_count": 10,
   "id": "eddfdaa8",
   "metadata": {
    "tags": []
   },
   "outputs": [
    {
     "name": "stdout",
     "output_type": "stream",
     "text": [
      "Dope Truck\n"
     ]
    }
   ],
   "source": [
    "tesla.nickname = 'Dope Truck'"
   ]
  },
  {
   "cell_type": "markdown",
   "id": "ec97d010",
   "metadata": {},
   "source": [
    "<a id=\"access\"></a>\n",
    "\n",
    "### Access Control keywords"
   ]
  },
  {
   "cell_type": "markdown",
   "id": "17233b3a",
   "metadata": {},
   "source": [
    "Access Control keywords are used in many languages, and TypeScript uses the most common three `public`, `protected`, `private`.  These access modifiers tell the computer what can access and modify the property/method.\n",
    "\n",
    "`public` -- this property is available  anywhere.  If no access modifier is used, the property defaults to public\n",
    "\n",
    "`protected` -- this property can be used within the class and within the derived classes, but not from outside the class\n",
    "\n",
    "`private`  -- this property can only be used from within the class that declared it.\n",
    "\n",
    "These access modifiers are the key to a concept known and <b>encapsulation</b>. This is basically the idea of data hiding to prevent properties from being modified or used by people/programs that it shouldn't be used by, or to control the modifications of these properties."
   ]
  },
  {
   "cell_type": "markdown",
   "id": "45a2174f",
   "metadata": {},
   "source": [
    "<b>Now</b> Lets assign some private and public access modifiers"
   ]
  },
  {
   "cell_type": "code",
   "execution_count": 13,
   "id": "52683d48",
   "metadata": {
    "tags": []
   },
   "outputs": [
    {
     "name": "stdout",
     "output_type": "stream",
     "text": [
      "The car id is 3 & it is a \u001b[33m1981\u001b[39m Delorean DMC-12 that has no nickname :( sorry\n"
     ]
    }
   ],
   "source": [
    "class Car{\n",
    "    //define the types of the properties\n",
    "    private readonly id:number\n",
    "    public make: string\n",
    "    public model: string\n",
    "    public year: number\n",
    "    public nickname?: string\n",
    "    \n",
    "    constructor(id:number, make: string, model: string, year: number, nickname?: string){\n",
    "        //assign the properties\n",
    "        this.id=id\n",
    "        this.make=make\n",
    "        this.model=model\n",
    "        this.year=year\n",
    "    }\n",
    "    \n",
    "    drive(miles:Number):void{\n",
    "        console.log(\"You drove \", miles, \"miles\")\n",
    "    }\n",
    "    \n",
    "    printInfo():void{\n",
    "        console.log(`The car id is ${this.id} & it is a`, \n",
    "                            this.year, \n",
    "                            this.make,\n",
    "                            this.model,\n",
    "                            this.nickname ? 'that is called' + this.nickname : 'that has no nickname :( sorry')\n",
    "    }\n",
    "}\n",
    "\n",
    "let delorean = new Car(3, 'Delorean', 'DMC-12', 1981)\n",
    "delorean.printInfo()"
   ]
  },
  {
   "cell_type": "code",
   "execution_count": null,
   "id": "3a948a1a-4af1-43e8-80f5-5da67f0a30ef",
   "metadata": {},
   "outputs": [],
   "source": []
  },
  {
   "cell_type": "markdown",
   "id": "2af88485",
   "metadata": {},
   "source": [
    "Private variables cannot be access outside of the class"
   ]
  },
  {
   "cell_type": "code",
   "execution_count": null,
   "id": "e35ddf06",
   "metadata": {
    "scrolled": true
   },
   "outputs": [],
   "source": []
  },
  {
   "cell_type": "markdown",
   "id": "67b02032",
   "metadata": {},
   "source": [
    "<a id=\"conprop\"></a>\n",
    "\n",
    "### Declaring Properties in the Constructor"
   ]
  },
  {
   "cell_type": "markdown",
   "id": "4d8eb6d8",
   "metadata": {},
   "source": [
    "When passing values to our constructor we can give the parameters an access modifier and no longer declare them at the top of the document.  Optional properties will still need to be declared at the top.\n",
    "\n",
    "<b>Note: </b> Like in Python we will name our private properties with an underscore.  This is an older convention and many may argue it is not applicable anymore, often it's replaced with a `$` at the beginning of the variable name, or some custom convention.  Google and Apple style guide chastise the use of the `_` prefix, so in your applications do not use this `_` convention.  For this workbook to make things clear, we will use a prefix of `_` for private variables and a postfix of `$` for protected variables"
   ]
  },
  {
   "cell_type": "code",
   "execution_count": 25,
   "id": "091b369c",
   "metadata": {
    "tags": []
   },
   "outputs": [
    {
     "name": "stdout",
     "output_type": "stream",
     "text": [
      "The car id is 3 & it is a \u001b[33m1981\u001b[39m Delorean DMC-12 that is calledcool car\n"
     ]
    }
   ],
   "source": [
    "class Car {\n",
    "    \n",
    "    constructor(private readonly _id:number, \n",
    "                 public make:string, \n",
    "                 public model: string,\n",
    "                 public year: number,\n",
    "                 public nickname?:string\n",
    "                ){}\n",
    "    \n",
    "    drive(miles:number):void{\n",
    "        console.log('You drove so many miles',miles, 'with these gas prices thats wild')\n",
    "    }\n",
    "        printInfo():void{\n",
    "        console.log(`The car id is ${this._id} & it is a`, // the '_' in front of id doesnt do anything besides show that this is private variable\n",
    "                            this.year, \n",
    "                            this.make,\n",
    "                            this.model,\n",
    "                            this.nickname ? 'that is called' + this.nickname : 'that has no nickname :( sorry')\n",
    "    }\n",
    "}\n",
    "let delorean = new Car(3, 'Delorean', 'DMC-12', 1981, 'cool car')\n",
    "delorean.printInfo()\n",
    "// delorean.id"
   ]
  },
  {
   "cell_type": "markdown",
   "id": "d0037ac7",
   "metadata": {},
   "source": [
    "<a id=\"getter\"></a>\n",
    "\n",
    "### Getters"
   ]
  },
  {
   "cell_type": "markdown",
   "id": "47f20072",
   "metadata": {},
   "source": [
    "We can access varaibles with a getter.  This helps us encapsulate the property while still allowing view access.  Using getters and setters in your classes is good practice and should always be employed in your classes."
   ]
  },
  {
   "cell_type": "markdown",
   "id": "2a5bc985",
   "metadata": {},
   "source": [
    "In the following example we decided since a car's make and model can not be changed once it is made we will make those properties private, but the nickname of a car can be changed by anyone at anytime so we will make that public."
   ]
  },
  {
   "cell_type": "code",
   "execution_count": 26,
   "id": "10c24e3b",
   "metadata": {
    "tags": []
   },
   "outputs": [
    {
     "name": "stderr",
     "output_type": "stream",
     "text": [
      "3:70 - A required parameter cannot follow an optional parameter.\n"
     ]
    }
   ],
   "source": [
    "class Car{\n",
    "    \n",
    "    constructor(private _make:string, private _model?:string, public year:number){}\n",
    "    \n",
    "//  since make & model are private we can make getters in order to get the data\n",
    "    //notice the getter is the same name as the variable\n",
    "    get make():string {\n",
    "        return this._make\n",
    "    }\n",
    "    // defining how we serve our data\n",
    "    get model(): string{\n",
    "        if (this._model){\n",
    "            return this._model\n",
    "        }else{\n",
    "            return \"we dont have model data\"\n",
    "        }\n",
    "    }\n",
    "}"
   ]
  },
  {
   "cell_type": "code",
   "execution_count": 18,
   "id": "16c7c940",
   "metadata": {
    "scrolled": true,
    "tags": []
   },
   "outputs": [
    {
     "name": "stderr",
     "output_type": "stream",
     "text": [
      "1:19 - Expected 4-5 arguments, but got 3.\n"
     ]
    }
   ],
   "source": [
    "let knightRider = new Car('Pontiac', 1998, 'Grand Prix')"
   ]
  },
  {
   "cell_type": "code",
   "execution_count": 17,
   "id": "2c58c622",
   "metadata": {
    "scrolled": true,
    "tags": []
   },
   "outputs": [
    {
     "name": "stderr",
     "output_type": "stream",
     "text": [
      "1:1 - Cannot find name 'knightRider'.\n"
     ]
    }
   ],
   "source": [
    "knightRider.model"
   ]
  },
  {
   "cell_type": "markdown",
   "id": "8873979c",
   "metadata": {},
   "source": [
    "Public properties can be changed from outside the class"
   ]
  },
  {
   "cell_type": "code",
   "execution_count": 21,
   "id": "5e9636f1",
   "metadata": {
    "tags": []
   },
   "outputs": [
    {
     "name": "stderr",
     "output_type": "stream",
     "text": [
      "1:1 - Cannot find name 'knightRider'.\n"
     ]
    }
   ],
   "source": [
    "knightRider.year"
   ]
  },
  {
   "cell_type": "code",
   "execution_count": null,
   "id": "048cfe5f",
   "metadata": {},
   "outputs": [],
   "source": []
  },
  {
   "cell_type": "markdown",
   "id": "9a4c43ba",
   "metadata": {},
   "source": [
    "Private Properties can not be accessed outside the class"
   ]
  },
  {
   "cell_type": "code",
   "execution_count": null,
   "id": "769e18e3",
   "metadata": {
    "scrolled": true
   },
   "outputs": [],
   "source": []
  },
  {
   "cell_type": "markdown",
   "id": "e4123377",
   "metadata": {},
   "source": [
    "Public getters can make private variables viewable outside the class"
   ]
  },
  {
   "cell_type": "code",
   "execution_count": 23,
   "id": "0ce0b402",
   "metadata": {
    "tags": []
   },
   "outputs": [
    {
     "name": "stderr",
     "output_type": "stream",
     "text": [
      "1:1 - Cannot find name 'knightRider'.\n"
     ]
    }
   ],
   "source": [
    "knightRider.make"
   ]
  },
  {
   "cell_type": "code",
   "execution_count": 24,
   "id": "f8f0b392",
   "metadata": {
    "tags": []
   },
   "outputs": [
    {
     "name": "stderr",
     "output_type": "stream",
     "text": [
      "1:1 - Cannot find name 'knightRider'.\n"
     ]
    }
   ],
   "source": [
    "knightRider.model"
   ]
  },
  {
   "cell_type": "markdown",
   "id": "75bc6bd7",
   "metadata": {},
   "source": [
    "<a id=\"setter\"></a>\n",
    "\n",
    "### Setters"
   ]
  },
  {
   "cell_type": "markdown",
   "id": "393c15cf",
   "metadata": {},
   "source": [
    "If a property is changed we often want to check or process the data that the property is getting changed to.  This makes setters very important.  They will allow us to define what happens when we change our variable.\n",
    "\n",
    "We can even create getters for things that are not properties.\n",
    "\n",
    "<strong>Note: </strong> Do not try and set a return type on a setter"
   ]
  },
  {
   "cell_type": "code",
   "execution_count": 29,
   "id": "60caa0fe",
   "metadata": {
    "tags": []
   },
   "outputs": [
    {
     "name": "stderr",
     "output_type": "stream",
     "text": [
      "3:70 - A required parameter cannot follow an optional parameter.\n",
      "31:20 - Expected 3 arguments, but got 2.\n"
     ]
    }
   ],
   "source": [
    "class Car{\n",
    "    \n",
    "    constructor(private _make:string, private _model?:string, public year:number){}\n",
    "    \n",
    "//  since make & model are private we can make getters in order to get the data\n",
    "    //notice the getter is the same name as the variable\n",
    "    get make():string {\n",
    "        return this._make\n",
    "    }\n",
    "    // defining how we serve our data\n",
    "    get model(): string{\n",
    "        if (this._model){\n",
    "            return this._model\n",
    "        }else{\n",
    "            return \"we dont have model data\"\n",
    "        }\n",
    "    }\n",
    "\n",
    "    set make(newMake:string){\n",
    "        this._make = newMake\n",
    "    }\n",
    "// we can add setter to define how we set/change the data\n",
    "    set model(newModel:string){\n",
    "        if (newModel.toLowerCase() === 'pinto') {\n",
    "            this._model = 'Wrecked'\n",
    "        } else {\n",
    "            this._model = newModel\n",
    "        }\n",
    "    }\n",
    "}\n",
    "let knightRider2 = new Car('Pontiac',1988)"
   ]
  },
  {
   "cell_type": "markdown",
   "id": "d02db854",
   "metadata": {},
   "source": [
    "Setters can allow us to change a private variable, while still letting the class decide how to properly enact the change."
   ]
  },
  {
   "cell_type": "code",
   "execution_count": 31,
   "id": "39f66dc5",
   "metadata": {
    "tags": []
   },
   "outputs": [
    {
     "name": "stderr",
     "output_type": "stream",
     "text": [
      "1:1 - Cannot find name 'knightRider2'.\n",
      "2:1 - Cannot find name 'knightRider2'.\n",
      "3:13 - Cannot find name 'knightRider2'.\n"
     ]
    }
   ],
   "source": [
    "knightRider2.make = 'BMW'\n",
    "knightRider2.model = 'Pinto'\n",
    "console.log(knightRider2)"
   ]
  },
  {
   "cell_type": "markdown",
   "id": "380eb8d3",
   "metadata": {},
   "source": [
    "<a id=\"idxsign\"></a>\n",
    "\n",
    "### Index Signatures"
   ]
  },
  {
   "cell_type": "markdown",
   "id": "a6a97c72",
   "metadata": {},
   "source": [
    "Index Signatures allow us to dynamically (after creation) change the properties of our class.  This can be done in JS but in TS you get an error\n",
    "\n",
    "syntax:\n",
    "```\n",
    "[placeHolder:DatatypeOfProperty]:DataTypeContainedInProperty\n",
    "```"
   ]
  },
  {
   "cell_type": "code",
   "execution_count": 32,
   "id": "02387f63",
   "metadata": {
    "tags": []
   },
   "outputs": [],
   "source": [
    "//How we do this in JS\n",
    "class PokemonRatings{\n",
    "    //indez signatures allow us to add key/value pairs dynamically\n",
    "    [pokemonAttribute: string] : string | number\n",
    "    \n",
    "}"
   ]
  },
  {
   "cell_type": "code",
   "execution_count": 33,
   "id": "c906038f",
   "metadata": {
    "tags": []
   },
   "outputs": [],
   "source": [
    "let myRating = new PokemonRatings()"
   ]
  },
  {
   "cell_type": "code",
   "execution_count": 34,
   "id": "409f4a50",
   "metadata": {
    "scrolled": true,
    "tags": []
   },
   "outputs": [
    {
     "name": "stdout",
     "output_type": "stream",
     "text": [
      "\u001b[33m1\u001b[39m\n"
     ]
    }
   ],
   "source": [
    "myRating['Arceus'] = 1"
   ]
  },
  {
   "cell_type": "code",
   "execution_count": 36,
   "id": "c8239c24",
   "metadata": {
    "tags": []
   },
   "outputs": [
    {
     "name": "stdout",
     "output_type": "stream",
     "text": [
      "PokemonRatings { Arceus: \u001b[33m1\u001b[39m }\n"
     ]
    }
   ],
   "source": [
    "console.log(myRating)"
   ]
  },
  {
   "cell_type": "code",
   "execution_count": 38,
   "id": "48242edf",
   "metadata": {
    "tags": []
   },
   "outputs": [
    {
     "name": "stdout",
     "output_type": "stream",
     "text": [
      "PokemonRatings { Arceus: \u001b[33m1\u001b[39m, Charmander: \u001b[32m'fire type'\u001b[39m }\n"
     ]
    }
   ],
   "source": [
    "myRating['Charmander'] = 'fire type'\n",
    "console.log(myRating)"
   ]
  },
  {
   "cell_type": "markdown",
   "id": "a7b91fa6",
   "metadata": {},
   "source": [
    "<a id=\"static\"></a>\n",
    "\n",
    "### Static"
   ]
  },
  {
   "cell_type": "markdown",
   "id": "cdd0515f",
   "metadata": {},
   "source": [
    "The `static` keyword denotes that the property maintains its value across all instances, and also must be used without an instance.\n",
    "\n",
    "To access a Static Property we call its by class name. `ClassName.staticProperty`"
   ]
  },
  {
   "cell_type": "code",
   "execution_count": 40,
   "id": "90933070",
   "metadata": {
    "tags": []
   },
   "outputs": [],
   "source": [
    "// static essentially means attributes & methods belong to the class as a whole not necessarily individual ogjects\n",
    "\n",
    "class Counter{\n",
    "    //defining this a public attribute but also static\n",
    "    public static count: number = 0\n",
    "    \n",
    "    increaseCount():void {\n",
    "        \n",
    "        Counter.count ++\n",
    "    }\n",
    "    \n",
    "    // static method that belongs to the whole class not individual object\n",
    "    static showCount():void{\n",
    "        console.log(\"The count is,\" ,Counter.count)\n",
    "    }\n",
    "}"
   ]
  },
  {
   "cell_type": "markdown",
   "id": "25e6168b",
   "metadata": {},
   "source": [
    "#### Accessing"
   ]
  },
  {
   "cell_type": "code",
   "execution_count": 41,
   "id": "4c52eb6b",
   "metadata": {
    "tags": []
   },
   "outputs": [
    {
     "name": "stdout",
     "output_type": "stream",
     "text": [
      "\u001b[33m0\u001b[39m\n"
     ]
    }
   ],
   "source": [
    "console.log(Counter.count)"
   ]
  },
  {
   "cell_type": "code",
   "execution_count": 44,
   "id": "0d9c9cd4",
   "metadata": {
    "tags": []
   },
   "outputs": [],
   "source": [
    "let counter1 = new Counter()"
   ]
  },
  {
   "cell_type": "code",
   "execution_count": 46,
   "id": "9b51dacc",
   "metadata": {
    "tags": []
   },
   "outputs": [
    {
     "name": "stderr",
     "output_type": "stream",
     "text": [
      "2:10 - Property 'count' does not exist on type 'Counter'. Did you mean to access the static member 'Counter.count' instead?\n"
     ]
    }
   ],
   "source": [
    " // Can not Access\n",
    "counter1.count // im trying to acces an atttribute on a specific object"
   ]
  },
  {
   "cell_type": "markdown",
   "id": "a6236370",
   "metadata": {},
   "source": [
    "All Members of the Counter class share the same count property!"
   ]
  },
  {
   "cell_type": "code",
   "execution_count": 49,
   "id": "1531cec3",
   "metadata": {
    "tags": []
   },
   "outputs": [
    {
     "name": "stdout",
     "output_type": "stream",
     "text": [
      "The count is, \u001b[33m2\u001b[39m\n",
      "The count is, \u001b[33m3\u001b[39m\n"
     ]
    }
   ],
   "source": [
    "counter1.increaseCount()\n",
    "Counter.showCount()\n",
    "\n",
    "//share the count attribute with each other. it is not seperate\n",
    "let counter2 = new Counter()\n",
    "counter2.increaseCount()\n",
    "Counter.showCount()"
   ]
  },
  {
   "cell_type": "code",
   "execution_count": 50,
   "id": "2471544f",
   "metadata": {
    "tags": []
   },
   "outputs": [
    {
     "name": "stderr",
     "output_type": "stream",
     "text": [
      "2:10 - Property 'showCount' does not exist on type 'Counter'. Did you mean to access the static member 'Counter.showCount' instead?\n"
     ]
    }
   ],
   "source": [
    "//Nope\n",
    "counter2.showCount()"
   ]
  },
  {
   "cell_type": "code",
   "execution_count": null,
   "id": "da45fa4c",
   "metadata": {},
   "outputs": [],
   "source": [
    "// in python we use the @staticmethod to do this"
   ]
  },
  {
   "cell_type": "code",
   "execution_count": 51,
   "id": "3de9c94e-40a2-4f67-a1f6-6d35dc4e935a",
   "metadata": {
    "tags": []
   },
   "outputs": [
    {
     "name": "stdout",
     "output_type": "stream",
     "text": [
      "The count is, \u001b[33m4\u001b[39m\n"
     ]
    }
   ],
   "source": [
    "// counter2.increaseCount()\n",
    "Counter.showCount()"
   ]
  },
  {
   "cell_type": "markdown",
   "id": "a0a65a71",
   "metadata": {},
   "source": [
    "<a id=\"inherit\"></a>\n",
    "\n",
    "## Inheritance"
   ]
  },
  {
   "cell_type": "markdown",
   "id": "f9bafbb5",
   "metadata": {},
   "source": [
    "We are going to make a Duck class then define children classes to represent different kinds of ducks.  \n",
    "\n",
    "Here we will use the `protected` access modifier for the first time.  Remember protected means that the child class can access the property, while if it was made private it would not be able to be accessed in the child class\n",
    "\n",
    "<b>Note: </b>In python a class can inherit from multiple classes.  This is not possible in JavaScript/TypeScript.  You can only extend one class in JS/TS this is to prevent the so-called diamond problem (when two extended classes have the same base class).  This is fine and normal in most languages because JS also provides Interfaces and a class can implement many Interfaces (more on interfaces later)"
   ]
  },
  {
   "cell_type": "code",
   "execution_count": 55,
   "id": "37fc921f",
   "metadata": {
    "tags": []
   },
   "outputs": [
    {
     "name": "stdout",
     "output_type": "stream",
     "text": [
      "Duck\n",
      "Generic Duck noises\n",
      "Paddels with two litte feet\n",
      "\u001b[33m32\u001b[39m\n"
     ]
    }
   ],
   "source": [
    "// Original class\n",
    "class Duck{\n",
    "    public static className: string = 'Duck'\n",
    "    \n",
    "    constructor(protected age$: number){} // age is protected meaning we can only access it in this class and classes that ingerit this class\n",
    "    \n",
    "    get age(): number{\n",
    "        return this.age$\n",
    "        \n",
    "    }\n",
    "    \n",
    "    public quack():void{\n",
    "        console.log(\"Generic Duck noises\")\n",
    "    }\n",
    "    \n",
    "    public swim():void{\n",
    "        console.log(\"Paddels with two litte feet\")\n",
    "    }\n",
    "}\n",
    "\n",
    "console.log(Duck.className)\n",
    "let daffy = new Duck(32)\n",
    "daffy.quack()\n",
    "daffy.swim()\n",
    "daffy.age"
   ]
  },
  {
   "cell_type": "markdown",
   "id": "4fc302a5",
   "metadata": {},
   "source": [
    "#### In the Child Class"
   ]
  },
  {
   "cell_type": "markdown",
   "id": "f8d79a9b",
   "metadata": {},
   "source": [
    "To inherit from a class in JS/TS we use the extends keyword\n",
    "\n",
    "<b>Note </b> When adding parameters that are part of the parent class we do not add access modifiers"
   ]
  },
  {
   "cell_type": "code",
   "execution_count": 58,
   "id": "b52cd841",
   "metadata": {
    "tags": []
   },
   "outputs": [
    {
     "name": "stdout",
     "output_type": "stream",
     "text": [
      "Generic Duck noises\n",
      "Paddels with two litte feet\n"
     ]
    }
   ],
   "source": [
    "// in python we inherited by putting class in th eparenthesis class MallardDuck(Duck):\n",
    "// in JS/TS we use the extends keyword\n",
    "\n",
    "class MallardDuck extends Duck{\n",
    "    \n",
    "    public static className = 'Mallard Duck'\n",
    "    \n",
    "    constructor(public color: string, age$: number){\n",
    "        super(age$)\n",
    "    }\n",
    "    \n",
    "}\n",
    "\n",
    "\n",
    "let mallard = new MallardDuck(\"brown\", 5)\n",
    "mallard.age\n",
    "mallard.quack()\n",
    "mallard.swim()"
   ]
  },
  {
   "cell_type": "code",
   "execution_count": 59,
   "id": "01b48029",
   "metadata": {
    "scrolled": true,
    "tags": []
   },
   "outputs": [
    {
     "name": "stderr",
     "output_type": "stream",
     "text": [
      "3:7 - Property 'color' does not exist on type 'Duck'.\n"
     ]
    }
   ],
   "source": [
    "// Duck's don't have a color\n",
    "mallard.color //we extended the original class by adding color attribute to MallardDuck\n",
    "daffy.color"
   ]
  },
  {
   "cell_type": "markdown",
   "id": "8a84af9b",
   "metadata": {},
   "source": [
    "<a id=\"methover\"></a>\n",
    "\n",
    "### Method Overrides"
   ]
  },
  {
   "cell_type": "markdown",
   "id": "c10d5cbe",
   "metadata": {},
   "source": [
    "Now we notice that our mallard makes a generic animal sounds instead of the mallard's quack sound, so we should implement a different way to quack that is specific to mallards, we can do this by overriding the parent class method"
   ]
  },
  {
   "cell_type": "markdown",
   "id": "83b7556a",
   "metadata": {},
   "source": [
    "##### Implicit Overrides"
   ]
  },
  {
   "cell_type": "markdown",
   "id": "6ab1bbb6",
   "metadata": {},
   "source": [
    "If you create a method in a child class with the same name as a method in the parent class, the child class will use the method definition from the child class, this is called a <b>method override</b>  This is done implicitly by the computer.  This is now considered bad practice and it is recommended to always use the `override` keyword (more on that next)"
   ]
  },
  {
   "cell_type": "code",
   "execution_count": 61,
   "id": "767a531f",
   "metadata": {
    "tags": []
   },
   "outputs": [
    {
     "name": "stdout",
     "output_type": "stream",
     "text": [
      "This is a Mallard quack. Quack Quack\n"
     ]
    }
   ],
   "source": [
    "// original/parent class\n",
    "class Duck{\n",
    "    public static className: string = 'Duck'\n",
    "    \n",
    "    constructor(protected age$: number){} // age is protected meaning we can only access it in this class and classes that ingerit this class\n",
    "    \n",
    "    get age(): number{\n",
    "        return this.age$\n",
    "        \n",
    "    }\n",
    "    \n",
    "    public quack():void{\n",
    "        console.log(\"Generic Duck noises\")\n",
    "    }\n",
    "    \n",
    "    public swim():void{\n",
    "        console.log(\"Paddels with two litte feet\")\n",
    "    }\n",
    "}\n",
    "\n",
    "class MallardDuck extends Duck{\n",
    "    \n",
    "    public static className = 'Mallard Duck'\n",
    "    \n",
    "    constructor(public color: string, age$: number){\n",
    "        super(age$)\n",
    "    }\n",
    "    \n",
    "    // using override keyword we are overrifing the original quack() method\n",
    "    public override quack():void{\n",
    "        console.log(\"This is a Mallard quack. Quack Quack\")\n",
    "    }\n",
    "    \n",
    "}\n",
    "\n",
    "let mallard2 = new MallardDuck(\"brown & white\", 5)\n",
    "mallard2.quack()\n"
   ]
  },
  {
   "cell_type": "markdown",
   "id": "55afc76b",
   "metadata": {},
   "source": [
    "<a id=\"polym\"></a>\n",
    "\n",
    "### Polymorphism"
   ]
  },
  {
   "cell_type": "markdown",
   "id": "c2880118",
   "metadata": {},
   "source": [
    "Polymorphism means having many forms.  What we have learned in TS so far is that you always need to know the datatype of your variables.  And if you say make an array you have to define what is in that array.  \n",
    "\n",
    "What polymorphism says is if one class (say MallardDuck) inherits from a class (say Duck) then every MallardDuck is a Duck. Also, all other Children of the Duck Class (say RedHeadedDuck) are also Ducks; and not to forget that Ducks are also Ducks.  This means we can build an Array&lt;Ducks&gt; and include Ducks, RedHeadedDucks, and Mallard Ducks.\n",
    "    \n",
    "In OOP we often talk about the <b>Open-Closed Principal</b> The open–closed principle states \"software entities (classes, modules, functions, etc.) should be open for extension, but closed for modification\";\n",
    "    \n",
    "Polymorphism is a key way we can help achieve this goal"
   ]
  },
  {
   "cell_type": "markdown",
   "id": "df113605",
   "metadata": {},
   "source": [
    "<b>Lets </b> make another Type of Duck the ReadHeadedDuck"
   ]
  },
  {
   "cell_type": "code",
   "execution_count": 66,
   "id": "eaf6cee9",
   "metadata": {
    "tags": []
   },
   "outputs": [],
   "source": [
    "class RedHeadedDuck extends Duck {\n",
    "    public static className = 'Red Headed Duck'\n",
    "    \n",
    "    constructor(public color: string, age$: number){\n",
    "        \n",
    "        super(age$) \n",
    "    }\n",
    "    \n",
    "    // can also override our getter\n",
    "    get age(): number {\n",
    "        return this.age$ - 1\n",
    "        \n",
    "    }\n",
    "    \n",
    "    public override quack(): void{\n",
    "        console.log(\"Now this is how a Red Headed Duck quacks\")\n",
    "    }\n",
    "}"
   ]
  },
  {
   "cell_type": "markdown",
   "id": "72aaa5c0",
   "metadata": {},
   "source": [
    "Let’s make an array of Ducks.  Since all Duck Types inherit from Duck we can declare the array and array of Ducks."
   ]
  },
  {
   "cell_type": "code",
   "execution_count": 67,
   "id": "e6c036a2",
   "metadata": {
    "tags": []
   },
   "outputs": [],
   "source": [
    "// we can use classes as types\n",
    "//and since all these Duck classes ingerit from duck they should all be duck types\n",
    "\n",
    "let duckArray: Duck[] = [\n",
    "    \n",
    "    new Duck(23),\n",
    "    new MallardDuck('brown & white',10),\n",
    "    new RedHeadedDuck('red with spots',30)\n",
    "]"
   ]
  },
  {
   "cell_type": "markdown",
   "id": "c0ee1f5b",
   "metadata": {},
   "source": [
    "Now Lets watch Polymorphism in action\n",
    "\n",
    "This is really cool, because all Ducks are implementing the same behaviors (methods) we can invoke them and get the results from each individual class."
   ]
  },
  {
   "cell_type": "code",
   "execution_count": 68,
   "id": "1062c0a7",
   "metadata": {
    "scrolled": true,
    "tags": []
   },
   "outputs": [
    {
     "name": "stdout",
     "output_type": "stream",
     "text": [
      "\u001b[33m23\u001b[39m\n",
      "Generic Duck noises\n",
      "Paddels with two litte feet\n",
      "\u001b[33m10\u001b[39m\n",
      "This is a Mallard quack. Quack Quack\n",
      "Paddels with two litte feet\n",
      "\u001b[33m29\u001b[39m\n",
      "Now this is how a Red Headed Duck quacks\n",
      "Paddels with two litte feet\n"
     ]
    }
   ],
   "source": [
    "// loop through my duck array and callupoon each method\n",
    "\n",
    "for (let duck of duckArray){\n",
    "    console.log(duck.age)\n",
    "    duck.quack()\n",
    "    duck.swim()\n",
    "}"
   ]
  },
  {
   "cell_type": "markdown",
   "id": "1af58e19",
   "metadata": {},
   "source": [
    "<a id=\"dp\"></a>\n",
    "\n",
    "## OOP Design Patterns"
   ]
  },
  {
   "cell_type": "markdown",
   "id": "3be2806a",
   "metadata": {},
   "source": [
    "There are alot of ways to design systems with classes and Abstract classes and interfaces (more of these last two things coming up)\n",
    "\n",
    "The way you connect your Classes/Interface/Abstract Class make up your Design Pattern.  We are going to walk you through a good OOP design pattern in the next few sections"
   ]
  },
  {
   "cell_type": "markdown",
   "id": "d539b702",
   "metadata": {},
   "source": [
    "<a id=\"abs\"></a>\n",
    "\n",
    "## Abstract Classes"
   ]
  },
  {
   "cell_type": "markdown",
   "id": "8599a057",
   "metadata": {},
   "source": [
    "Our `Duck` Class now has a problem.  We shouldn't be able to create a plain duck.  All Ducks in the world are some variation on the Duck class, but a plain generic Duck should never exist.  This means we shouldn't be able to make a new duck\n",
    "\n",
    "`let duck = Duck(23)` Should not be allowed because this doesn't make logical sense.\n",
    "\n",
    "Don't fear because we have a solution for this.  We will use an `Abstract Class`  An Abstract Class is a class typically without method implementations, or implementations that function the same for all children classes.  In an Abstract class we merely define that a method should exist and that the children classes should define their own implantation..\n",
    "\n",
    "<b>Note: </b> All Abstract methods have a body even if it is empty"
   ]
  },
  {
   "cell_type": "code",
   "execution_count": 69,
   "id": "9c8f03f6",
   "metadata": {
    "tags": []
   },
   "outputs": [],
   "source": [
    "//Abstract classes are solely there to create other classes but never objects\n",
    "\n",
    "abstract class Duck{\n",
    "    \n",
    "    constructor(protected age$: number, public color: string){}\n",
    "        get age():number { return this.age$}\n",
    "        quack(){}\n",
    "        swim(){}\n",
    "    \n",
    "}"
   ]
  },
  {
   "cell_type": "code",
   "execution_count": 70,
   "id": "4340cc8d",
   "metadata": {
    "tags": []
   },
   "outputs": [
    {
     "name": "stderr",
     "output_type": "stream",
     "text": [
      "1:14 - Cannot create an instance of an abstract class.\n"
     ]
    }
   ],
   "source": [
    " let daffy = new Duck(32) //Error"
   ]
  },
  {
   "cell_type": "code",
   "execution_count": 83,
   "id": "2f1520ca",
   "metadata": {
    "tags": []
   },
   "outputs": [
    {
     "name": "stderr",
     "output_type": "stream",
     "text": [
      "4:20 - Expected 1 arguments, but got 2.\n",
      "21:20 - Expected 1 arguments, but got 2.\n"
     ]
    }
   ],
   "source": [
    "class MallardDuck extends Duck{\n",
    "    \n",
    "    constructor(public color:string, age$: number){\n",
    "        super(age$,color)\n",
    "    }\n",
    "    \n",
    "    get age():number{return this.age$ + 5}\n",
    "    \n",
    "    quack():void {\n",
    "        console.log(\"Mallards can quack all day all night\")\n",
    "    }\n",
    "    \n",
    "    swim(): void {\n",
    "        console.log(\"Swimming like a mallard duck. so majestic, look at it og\")\n",
    "    }\n",
    "}\n",
    "\n",
    "\n",
    "class MandarinDuck extends Duck {\n",
    "    constructor(public color:string, age$: number){\n",
    "        super(age$,color)\n",
    "    }\n",
    "    \n",
    "    get age():number{return this.age$ - 3}\n",
    "    \n",
    "    quack():void {\n",
    "        console.log(\"Quack Quack Quack\")\n",
    "    }\n",
    "    \n",
    "    swim(): void {\n",
    "        console.log(\"gracefully it glides through the water\")\n",
    "    }\n",
    "}\n"
   ]
  },
  {
   "cell_type": "code",
   "execution_count": 81,
   "id": "e955b967",
   "metadata": {
    "tags": []
   },
   "outputs": [],
   "source": [
    "let duckArray: Duck[] = [\n",
    "    new MallardDuck('green', 25),\n",
    "    new MandarinDuck('multi color',23)\n",
    "    \n",
    "]\n",
    "\n"
   ]
  },
  {
   "cell_type": "code",
   "execution_count": 82,
   "id": "0dc114fc-6e2c-4b05-ab49-a58ad9591c75",
   "metadata": {
    "tags": []
   },
   "outputs": [
    {
     "name": "stderr",
     "output_type": "stream",
     "text": [
      "5:22 - Property 'color' does not exist on type 'Duck'.\n"
     ]
    }
   ],
   "source": [
    "for (let duck of duckArray){\n",
    "    console.log(duck.age)\n",
    "    duck.quack()\n",
    "    duck.swim()\n",
    "    console.log(duck.color)\n",
    "}"
   ]
  },
  {
   "cell_type": "markdown",
   "id": "1e0f4f29",
   "metadata": {},
   "source": [
    "<b>What happened with Color?</b>"
   ]
  },
  {
   "cell_type": "markdown",
   "id": "ccf084bf",
   "metadata": {},
   "source": [
    "Lets Try and get the ducks color the same way.\n",
    "\n",
    "when we run the code below we get \n",
    "\n",
    "```Property 'color' does not exist on type 'Duck'.```\n",
    "We know MallardDuck and RedheadedDuck have the property color, but since we are accessing the RedHeaded and Mallard Ducks as a Duck Type (since they are in a array of Ducks not as RedheadedDuck|MallardDuck) we can not use the color property unless it is defined in the parent Abstract class.\n",
    "\n",
    "To fix this we can go back to our base class of `Duck` and add the property `color:string` at the top of our `Duck` class.  Then rerun the cells defining `MallardDuck` and `RedheadedDuck` (to get the new copy of the Duck class) and then rerun the cell below and we should see out expected results"
   ]
  },
  {
   "cell_type": "code",
   "execution_count": null,
   "id": "3e60585d",
   "metadata": {},
   "outputs": [],
   "source": [
    "// ^ see above, we can now acces the duck.color attribute because its apart of the original class/contract of Duck"
   ]
  },
  {
   "cell_type": "markdown",
   "id": "3f0f47f7",
   "metadata": {},
   "source": [
    "<a id=\"fly\"></a>\n",
    "\n",
    "#### Flying Ducks"
   ]
  },
  {
   "cell_type": "markdown",
   "id": "25746db9",
   "metadata": {},
   "source": [
    "Let's imagine now we are tasked with adding the ability to fly to our ducks.  This will be simple to add a new method to our Abstract base class `Duck` then implement its specific functionality in the children classes `MallardDuck` and `RedHeaded Duck`.  And for simplicity lets remove the color property"
   ]
  },
  {
   "cell_type": "code",
   "execution_count": null,
   "id": "5d2dce16",
   "metadata": {},
   "outputs": [],
   "source": [
    "abstract class Duck{\n",
    "    \n",
    "    constructor(protected age$: number, public color: string){}\n",
    "        get age():number { return this.age$}\n",
    "        quack(){}\n",
    "        swim(){}\n",
    "        fly(){}\n",
    "}"
   ]
  },
  {
   "cell_type": "code",
   "execution_count": null,
   "id": "dddeefcb-2718-4f44-8b48-753ec6f7307e",
   "metadata": {},
   "outputs": [],
   "source": [
    "class MallardDuck extends Duck{\n",
    "    \n",
    "    constructor(public color:string, age$: number){\n",
    "        super(age$,color)\n",
    "    }\n",
    "    \n",
    "    get age():number{return this.age$ + 5}\n",
    "    \n",
    "    quack():void {\n",
    "        console.log(\"Mallards can quack all day all night\")\n",
    "    }\n",
    "    \n",
    "    swim(): void {\n",
    "        console.log(\"Swimming like a mallard duck. so majestic, look at it og\")\n",
    "    }\n",
    "    fly(): void{\n",
    "        console.log(\"Fly like a Mallard duck\")\n",
    "    }\n",
    "}\n",
    "\n",
    "\n",
    "\n",
    "class MandarinDuck extends Duck {\n",
    "    constructor(public color:string, age$: number){\n",
    "        super(age$,color)\n",
    "    }\n",
    "    \n",
    "    get age():number{return this.age$ - 3}\n",
    "    \n",
    "    quack():void {\n",
    "        console.log(\"Quack Quack Quack\")\n",
    "    }\n",
    "    \n",
    "    swim(): void {\n",
    "        console.log(\"gracefully it glides through the water\")\n",
    "    }\n",
    "    fly(): void{\n",
    "        console.log(\"fly like a Mandarin duck. wow pretty\")\n",
    "    }\n",
    "\n",
    "}"
   ]
  },
  {
   "cell_type": "markdown",
   "id": "ec2dc503",
   "metadata": {},
   "source": [
    "<a id=\"decoy\"></a>\n",
    "\n",
    "#### Decoy Ducks "
   ]
  },
  {
   "cell_type": "markdown",
   "id": "465f7f65",
   "metadata": {},
   "source": [
    "Okay that was easy enough, but now we are required to make another type of duck, a duck decoy.  Lets Build our `DecoyDuck` class"
   ]
  },
  {
   "cell_type": "code",
   "execution_count": 84,
   "id": "5922d89d",
   "metadata": {
    "tags": []
   },
   "outputs": [
    {
     "name": "stderr",
     "output_type": "stream",
     "text": [
      "3:20 - Expected 1 arguments, but got 2.\n"
     ]
    }
   ],
   "source": [
    "class Decoy extends Duck {\n",
    "    constructor(public color:string, age$: number){\n",
    "        super(age$,color)\n",
    "    }\n",
    "    \n",
    "    get age():number{return this.age$}\n",
    "    \n",
    "    quack():void {\n",
    "        console.log(\"Quack Quack Quack\")\n",
    "    }\n",
    "    \n",
    "    swim(): void {\n",
    "        console.log(\"gracefully it glides through the water\")\n",
    "    }\n",
    "    fly(): void{\n",
    "        //deco ducks cant fly so therfore we shouldnt have this method!\n",
    "    }\n",
    "\n",
    "}"
   ]
  },
  {
   "cell_type": "markdown",
   "id": "b6eed0cc",
   "metadata": {},
   "source": [
    "We Have now come across a problem with using the abstract class to derive all our Duck Types.  A Decoy Duck has no implementation of fly, and thus we should not be implementing a fly method on a decoy duck.\n",
    "\n",
    "Never Fear! Interfaces are here!  An Interface lets you define methods that a class needs to implement.  It can also be used as a type."
   ]
  },
  {
   "cell_type": "markdown",
   "id": "00e0b56e",
   "metadata": {},
   "source": [
    "<a id=\"interfaces\"></a>\n",
    "\n",
    "### Interfaces"
   ]
  },
  {
   "cell_type": "markdown",
   "id": "96edbaa2",
   "metadata": {},
   "source": [
    "Let's redefine our Ducks now using Interfaces. Interfaces also work with Polymorphism. \n",
    "\n",
    "To say a class uses an interface we use the keyword `implements`\n",
    "\n",
    "A class can implement many interfaces, yet extend only one class.\n",
    "\n",
    "An Interface can enforce many different methods/properties, but in this example we will keep it to one method per interface.  The Age property should belong to all ducks still, so we will keep the Duck base class to hold the age, for these examples we will assume the ducks all age exactly the same, so there will be no need to override the getters for age.\n",
    "\n",
    "<i>Interface vs Type</i>\n",
    "\n",
    "Interfaces and Types are extremely similar in TypeScript and for the most part Interfaces and Types can be used interchangeably in TypeScript.\n",
    "\n",
    "for an in-depth discussion on the differences visit https://www.educba.com/typescript-type-vs-interface/\n",
    "\n",
    "\n",
    "<strong>Note </strong> Interfaces do not have method bodies (Abstract classes have method bodies)"
   ]
  },
  {
   "cell_type": "code",
   "execution_count": 106,
   "id": "28054abf",
   "metadata": {
    "tags": []
   },
   "outputs": [],
   "source": [
    "// these are all contracts. \n",
    "\n",
    "abstract class Duck {\n",
    "//     we will only have properties/charactistics on our abstract class\n",
    "    constructor(protected age$: number, public color: string){}\n",
    "    \n",
    "    get age():number {return this.age$}\n",
    "    \n",
    "    // we took out all the below methods and made those seperate interfaces instead that we can use interchangably\n",
    "    // quack(){} \n",
    "    // swim(){}\n",
    "    // fly(){}\n",
    "\n",
    "}\n",
    "\n",
    "// instead of creating methods on our abstract class we will create interfaces \n",
    "\n",
    "interface Quackable {\n",
    "    quack():void\n",
    "}\n",
    "\n",
    "interface Swimmable {\n",
    "    swim():void\n",
    "}\n",
    "\n",
    "interface Flyable {\n",
    "    // wingspan: string\n",
    "    fly():void\n",
    "}"
   ]
  },
  {
   "cell_type": "code",
   "execution_count": 107,
   "id": "35074595-0fbb-486d-b569-87feb8a92d0d",
   "metadata": {
    "tags": []
   },
   "outputs": [],
   "source": [
    "// class can only extend/inherit 1 class but implement MANY interfaces\n",
    "// now our abstract class is a contract only on PROPERTIES\n",
    "// our interfaces are contracts of the classes capabilities/behaviors\n",
    "\n",
    "\n",
    "// MallardDuck signs 4 contracts (Duck, Quackable, Swimmable, Flyable)\n",
    "class MallardDuck extends Duck implements Quackable, Swimmable, Flyable {\n",
    "\n",
    "    constructor(color: string, age$: number){\n",
    "        super(age$, color)\n",
    "    }\n",
    "    \n",
    "    get age():number {\n",
    "        return this.age$ + 2\n",
    "    }\n",
    "    \n",
    "    public quack(): void {\n",
    "        console.log(\"Quack like a Mallard\")\n",
    "    }\n",
    "    \n",
    "     public swim(): void {\n",
    "        console.log(\"Swim like a Mallard\")\n",
    "    }\n",
    "    \n",
    "     public fly(): void {\n",
    "        console.log(\"Fly like a Mallard\")\n",
    "    }\n",
    "}\n",
    "\n",
    "\n",
    "// DecoyDuck only signs 3 (Duck, Quackable, Swimmable)\n",
    "class DecoyDuck extends Duck implements Quackable, Swimmable {\n",
    "\n",
    "    constructor(color: string, age$: number){\n",
    "        super(age$, color)\n",
    "    }\n",
    "    \n",
    "    public quack(): void {\n",
    "        console.log(\"Fake quacking sounds to lure the real ducks\")\n",
    "    }\n",
    "    \n",
    "     public swim(): void {\n",
    "        console.log(\"Doesn't really swim but kinda floats\")\n",
    "    }\n",
    "}"
   ]
  },
  {
   "cell_type": "markdown",
   "id": "3e028f5b",
   "metadata": {},
   "source": [
    "We can use the Interface as a type to make an array of all the ducks that Quack"
   ]
  },
  {
   "cell_type": "code",
   "execution_count": 108,
   "id": "4fc873c2",
   "metadata": {
    "tags": []
   },
   "outputs": [
    {
     "name": "stdout",
     "output_type": "stream",
     "text": [
      "\u001b[33m17\u001b[39m\n",
      "green\n",
      "\u001b[33m3\u001b[39m\n",
      "brown\n"
     ]
    }
   ],
   "source": [
    "let mallard = new MallardDuck('green', 15)\n",
    "let decoy = new DecoyDuck('brown', 3)\n",
    "\n",
    "\n",
    "let duckArray: Duck[] = [ mallard, decoy ]\n",
    "   \n",
    "\n",
    "for (let duck of duckArray) {\n",
    "    console.log(duck.age)\n",
    "    console.log(duck.color)\n",
    "}"
   ]
  },
  {
   "cell_type": "code",
   "execution_count": 109,
   "id": "0482495d",
   "metadata": {
    "tags": []
   },
   "outputs": [
    {
     "name": "stdout",
     "output_type": "stream",
     "text": [
      "Quack like a Mallard\n",
      "Fake quacking sounds to lure the real ducks\n"
     ]
    },
    {
     "name": "stderr",
     "output_type": "stream",
     "text": [
      "unknown msg_type: comm_open\n",
      "unknown msg_type: comm_msg\n"
     ]
    }
   ],
   "source": [
    "// we can also use Interfaces as types\n",
    "\n",
    "let quackArray: Quackable[] = [ mallard, decoy ]\n",
    "\n",
    "for (let duck of quackArray) { duck.quack() }"
   ]
  },
  {
   "cell_type": "code",
   "execution_count": null,
   "id": "f6794d21",
   "metadata": {},
   "outputs": [],
   "source": []
  },
  {
   "cell_type": "markdown",
   "id": "4d34a346",
   "metadata": {},
   "source": [
    "<a id=\"ice2\"></a>\n",
    "## In Class Exercise #2"
   ]
  },
  {
   "cell_type": "markdown",
   "id": "17ac5b75",
   "metadata": {},
   "source": [
    "Create a Interface Of MusicMedia that states anything implementing it should be able to `play` and create Classes: CD, Tape, Record to implement your interface\n",
    "\n",
    "To implement play:\n",
    "\n",
    "- CDs will print \"Spins and read with Laser\"\n",
    "- Tapes will print \"Magnetic Tape is read\"\n",
    "- Records will print \"Needle reads grooves\""
   ]
  },
  {
   "cell_type": "code",
   "execution_count": 96,
   "id": "ddab1fa0",
   "metadata": {
    "tags": []
   },
   "outputs": [],
   "source": [
    "//Solution\n",
    "interface Play {\n",
    "    playing(): void\n",
    "}\n",
    "\n",
    "\n",
    "class CD  implements Play {\n",
    "    public playing(): void {\n",
    "        console.log(\"Spins and read with Laser\")\n",
    "    }\n",
    "}\n",
    "\n",
    "class Tapes implements Play {\n",
    "    public playing(): void {\n",
    "        console.log(\"Magnetic Tape is read\")\n",
    "    }\n",
    "}\n",
    "\n",
    "class Records  implements Play {\n",
    "    public playing(): void {\n",
    "        console.log(\"Needle reads grooves\")\n",
    "    }\n",
    "}"
   ]
  },
  {
   "cell_type": "code",
   "execution_count": 97,
   "id": "a787af66-5223-46a6-b28d-f4e3ef9f8c20",
   "metadata": {
    "tags": []
   },
   "outputs": [
    {
     "name": "stdout",
     "output_type": "stream",
     "text": [
      "Spins and read with Laser\n",
      "Magnetic Tape is read\n",
      "Needle reads grooves\n"
     ]
    }
   ],
   "source": [
    "let playArray: Play[] = [\n",
    "    new CD(),\n",
    "    new Tapes(),\n",
    "    new Records()\n",
    "]\n",
    "\n",
    "for (let media of playArray){\n",
    "    media.playing()\n",
    "}"
   ]
  },
  {
   "cell_type": "markdown",
   "id": "f81a9dcd",
   "metadata": {},
   "source": [
    "<a id=\"ptoi\"></a>\n",
    "\n",
    "#### Programming To Interface"
   ]
  },
  {
   "cell_type": "markdown",
   "id": "6349da36",
   "metadata": {},
   "source": [
    "This design can be further improved, but it is a quite flexible design.  What we are learning is the idea of <b>Programming to Interface</b>.  This is the idea could really be stated <b>program to a supertype</b>.  The declared type of the variables should be a supertype, usually an abstract class or interface, so that the objects assiged to those variables can be of any concrete implementation of the supertype, which means the decalring class doesn't have to know about the object types! "
   ]
  },
  {
   "cell_type": "markdown",
   "id": "30151a8c",
   "metadata": {},
   "source": [
    "<a id=\"xi\"></a>\n",
    "\n",
    "### Extending Interfaces"
   ]
  },
  {
   "cell_type": "markdown",
   "id": "dc69d9ac",
   "metadata": {},
   "source": [
    "An interface can also be used alot like a type.  The main difference here is an interface describes the object while a type defines the object.  \n",
    "\n",
    "In TypeScript, We can even extend interfaces with the extends keyword."
   ]
  },
  {
   "cell_type": "code",
   "execution_count": 101,
   "id": "ff623c9d",
   "metadata": {
    "tags": []
   },
   "outputs": [
    {
     "name": "stdout",
     "output_type": "stream",
     "text": [
      "{\n",
      "  firstName: \u001b[32m'Morgan'\u001b[39m,\n",
      "  lastName: \u001b[32m'McIntosh'\u001b[39m,\n",
      "  age: \u001b[33m26\u001b[39m,\n",
      "  lastPost: \u001b[35m2024-02-20T21:00:01.889Z\u001b[39m,\n",
      "  posts: [\n",
      "    {\n",
      "      title: \u001b[32m'My new blog post'\u001b[39m,\n",
      "      body: \u001b[32m'All the fun things Im watching including Avatar'\u001b[39m\n",
      "    },\n",
      "    { title: \u001b[32m'Another Blog post'\u001b[39m, body: \u001b[32m'The traitors is a good show'\u001b[39m }\n",
      "  ]\n",
      "}\n"
     ]
    },
    {
     "name": "stderr",
     "output_type": "stream",
     "text": [
      "unknown msg_type: comm_open\n",
      "unknown msg_type: comm_msg\n",
      "unknown msg_type: comm_open\n",
      "unknown msg_type: comm_msg\n"
     ]
    }
   ],
   "source": [
    "\n",
    "interface Human {\n",
    "    firstName: string,\n",
    "    lastName:string,\n",
    "    age: number\n",
    "}\n",
    "\n",
    "interface Post{\n",
    "    title:string,\n",
    "    body:string\n",
    "}\n",
    "\n",
    "\n",
    "// create a new interface that extends another\n",
    "interface Poster extends Human {\n",
    "    posts: Post[],\n",
    "    lastPost: Date\n",
    "}\n",
    "\n",
    "// use interface to create data\n",
    "let myUser: Poster = {\n",
    "    firstName: \"Morgan\",\n",
    "    lastName: \"McIntosh\",\n",
    "    age: 26,\n",
    "    lastPost: new Date(),\n",
    "    posts: [\n",
    "        {title: \"My new blog post\", body: \"All the fun things Im watching including Avatar\"},\n",
    "        {title: \"Another Blog post\", body: \"The traitors is a good show\"}\n",
    "    ]\n",
    "}\n",
    "\n",
    "\n",
    "console.log(myUser)\n"
   ]
  },
  {
   "cell_type": "markdown",
   "id": "f9ccb324",
   "metadata": {},
   "source": [
    "<a id=\"gen\"></a>\n",
    "\n",
    "# Generics"
   ]
  },
  {
   "cell_type": "markdown",
   "id": "dc53bdb4",
   "metadata": {},
   "source": [
    "Sometimes we want to allow for all sorts of types for our variables.  We know using an `any` type is bad practice, so how can we accomplish this?  With the use of Generics!"
   ]
  },
  {
   "cell_type": "markdown",
   "id": "8a7ed16e",
   "metadata": {},
   "source": [
    "\n",
    "<a id=\"gf\"></a>\n",
    "### Generic Functions"
   ]
  },
  {
   "cell_type": "markdown",
   "id": "bb7b8e76",
   "metadata": {},
   "source": [
    "To create a generic function we will append the class name with `<` `placeholder to represent any type` `>` and we type the parameters with the placeholder.\n",
    "\n",
    "\n",
    "This is very similar to how this is done in C++.\n",
    "\n",
    "You will often see the placeholder labeled as `T` this stands for Template Class, but you can use anything you want here, but I would keep it to a single letter.\n",
    "\n",
    "When calling the function we can gernally just use our argument like normal, but if for some reason the compiler is unsure of our type we can append  `<` `Generic Type Placeholder` `>` after the name of the function"
   ]
  },
  {
   "cell_type": "code",
   "execution_count": null,
   "id": "c695dce8",
   "metadata": {},
   "outputs": [],
   "source": []
  },
  {
   "cell_type": "markdown",
   "id": "80ced257",
   "metadata": {},
   "source": [
    "<a id=\"gc\"></a>\n",
    "\n",
    "### Generic Classes"
   ]
  },
  {
   "cell_type": "markdown",
   "id": "3a63bbfa",
   "metadata": {},
   "source": [
    "To create a generic class we will append the class name with `<` `placeholder to represent any type` `>` and we type the parameters with the placeholder.\n"
   ]
  },
  {
   "cell_type": "code",
   "execution_count": null,
   "id": "211605b9",
   "metadata": {},
   "outputs": [],
   "source": []
  },
  {
   "cell_type": "code",
   "execution_count": null,
   "id": "679e8b57",
   "metadata": {},
   "outputs": [],
   "source": []
  },
  {
   "cell_type": "code",
   "execution_count": null,
   "id": "fb6424dd",
   "metadata": {},
   "outputs": [],
   "source": []
  },
  {
   "cell_type": "code",
   "execution_count": null,
   "id": "8f14dd0e",
   "metadata": {},
   "outputs": [],
   "source": []
  },
  {
   "cell_type": "markdown",
   "id": "fd86d562",
   "metadata": {},
   "source": [
    "<a id=\"mg\"></a>\n",
    "\n",
    "### Multiple Generics"
   ]
  },
  {
   "cell_type": "code",
   "execution_count": null,
   "id": "714e3824",
   "metadata": {},
   "outputs": [],
   "source": []
  },
  {
   "cell_type": "markdown",
   "id": "773d4a1e",
   "metadata": {},
   "source": [
    "<a id=\"gi\"></a>\n",
    "\n",
    "### Generic Interfaces"
   ]
  },
  {
   "cell_type": "markdown",
   "id": "d53dac1e",
   "metadata": {},
   "source": [
    "The following code will error when ran.  Be sure to use the autocomplete to see the effect of generics."
   ]
  },
  {
   "cell_type": "code",
   "execution_count": null,
   "id": "8ac7c9df",
   "metadata": {},
   "outputs": [],
   "source": []
  },
  {
   "cell_type": "markdown",
   "id": "6ebd51fd",
   "metadata": {},
   "source": [
    "<a id=\"gcon\"></a>\n",
    "\n",
    "### Generic Constraints"
   ]
  },
  {
   "cell_type": "markdown",
   "id": "ead2164b",
   "metadata": {},
   "source": [
    "Maybe we want to write a generic function that works with all ducks that extend the `Quacks` ability class we created earlier.  We can do this by saying `T extends Quacks`"
   ]
  },
  {
   "cell_type": "code",
   "execution_count": null,
   "id": "fce0c6aa",
   "metadata": {},
   "outputs": [],
   "source": []
  },
  {
   "cell_type": "markdown",
   "id": "4506b01e",
   "metadata": {},
   "source": [
    "<a id=\"keyof\"></a>\n",
    "\n",
    "### keyof"
   ]
  },
  {
   "cell_type": "markdown",
   "id": "1ab83d2e",
   "metadata": {},
   "source": [
    "Sometime we need to work with the keys of an object, and if any string is allowed TypeScript could give us and Error (We won't go into these circumstances for brevity), so the `keyof` Operator restricts our options only to valid keys"
   ]
  },
  {
   "cell_type": "code",
   "execution_count": null,
   "id": "90553670",
   "metadata": {},
   "outputs": [],
   "source": []
  },
  {
   "cell_type": "markdown",
   "id": "7490bba5",
   "metadata": {},
   "source": [
    "<a id=\"typemap\"></a>\n",
    "\n",
    "### Type Mapping"
   ]
  },
  {
   "cell_type": "markdown",
   "id": "ca595a1a",
   "metadata": {},
   "source": [
    "Imagine we have an interface and all the properties are required.  Now lets imagine we need another version of this interface that allow all the properties to be optional.  We still need our original Required Interface, so we can't edit that and make the properties optional.  We could create a second Interface will all the same properties and make them optional.  This make a ton of work for us to maintain the interface because now we have to add properties in two locations.  The Solution for this is <b>Type Mapping</b>\n",
    "\n",
    "This will take use of two tools we have already learned `keyof` and <b>Type Signatures</b>"
   ]
  },
  {
   "cell_type": "markdown",
   "id": "cdf744f4",
   "metadata": {},
   "source": [
    "<a id=\"optgen\"></a>\n",
    "\n",
    "### Optional&lt;T&gt;"
   ]
  },
  {
   "cell_type": "code",
   "execution_count": null,
   "id": "42f0b164",
   "metadata": {},
   "outputs": [],
   "source": []
  },
  {
   "cell_type": "markdown",
   "id": "86d05f8b",
   "metadata": {},
   "source": [
    "<a id=\"rogen\"></a>\n",
    "\n",
    "### ReadOnly&lt;T&gt;"
   ]
  },
  {
   "cell_type": "markdown",
   "id": "8390aa0f",
   "metadata": {},
   "source": [
    "This will only work for Garage types, but with generics we can make this work for any type.  Instead of making it optional this time lets make it Read Only"
   ]
  },
  {
   "cell_type": "code",
   "execution_count": null,
   "id": "7060c349",
   "metadata": {},
   "outputs": [],
   "source": []
  },
  {
   "cell_type": "markdown",
   "id": "f3bad45f",
   "metadata": {},
   "source": [
    "<a id=\"util\"></a>\n",
    "\n",
    "### Built in Utility Types"
   ]
  },
  {
   "cell_type": "markdown",
   "id": "1420aa0b",
   "metadata": {},
   "source": [
    "The good news is we don't have to write this code normally because TypeScript provides a whole library of these utility types.\n",
    "\n",
    "[https://www.typescriptlang.org/docs/handbook/utility-types.html](https://www.typescriptlang.org/docs/handbook/utility-types.html)"
   ]
  },
  {
   "cell_type": "markdown",
   "id": "50c06538",
   "metadata": {},
   "source": [
    "<a id=\"hw\"></a>\n",
    "\n",
    "## Homework"
   ]
  },
  {
   "cell_type": "markdown",
   "id": "b45b6bd2",
   "metadata": {},
   "source": [
    "Design a flexible OOP system to describe characters in a RPG game\n",
    "\n",
    "There are 4 Unique Characters which use Different Types of Attacking mechanisms and Defending mechanisms.\n",
    "\n",
    "- Orges - fights with club and defends with shield\n",
    "- Peons - fights with club and defends with shield\n",
    "- Knights - fights with a Sword and defends with Armor\n",
    "- Archer - fights with Bow and Arrow and has only is tunic to protect them\n",
    "\n",
    "- All Characters can collect gold and this will always be the same for every new type of character\n",
    "\n",
    "At the end of this each character should be able to attack and defend and collect gold. \n",
    "\n",
    "EXTRA CREDIT: A character should be able to change their fighting style, say if a knight losing their sword, but finds a club they should be able to change their fighting mechanism to use the club\n",
    "\n",
    "<b>Hint: </b> To complete this assignment you will need multiple classes and interfaces and an Abstract class"
   ]
  },
  {
   "cell_type": "code",
   "execution_count": 119,
   "id": "34f42c98",
   "metadata": {
    "tags": []
   },
   "outputs": [],
   "source": [
    "//Solution    \n",
    "abstract class Character {\n",
    "    constructor(public name: string, public gold: number = 0) {\n",
    "    }\n",
    "\n",
    "    collectGold(amount: number): void {\n",
    "        this.gold += amount;\n",
    "        console.log(`${this.name} collected ${amount} gold.`);\n",
    "    }\n",
    "\n",
    "}\n",
    "\n",
    "interface attackMechanisms{\n",
    "    attack(): void;\n",
    "}\n",
    "\n",
    "interface defendingmechanisms{\n",
    "    defense(): void;\n",
    "}\n",
    "\n",
    "class Orges extends Character implements attackMechanisms, defendingmechanisms{\n",
    "    constructor(name:string){\n",
    "        super(name);\n",
    "    }\n",
    "    \n",
    "    public attack(): void{\n",
    "        console.log(`${this.name} fights with a club`)\n",
    "    }\n",
    "    \n",
    "    public defense(): void{\n",
    "        console.log(`${this.name} defends with a shield`)\n",
    "    }\n",
    "}\n",
    "class Peons extends Character implements attackMechanisms, defendingmechanisms{\n",
    "    constructor(name:string){\n",
    "        super(name);\n",
    "    }\n",
    "    \n",
    "   public attack(): void{\n",
    "        console.log(`${this.name} fights with a club`)\n",
    "    }\n",
    "    \n",
    "    public defense(): void{\n",
    "        console.log(`${this.name} defends with a shield`)\n",
    "    }\n",
    "}\n",
    "class Knights extends Character implements attackMechanisms, defendingmechanisms{\n",
    "    constructor(name:string){\n",
    "        super(name);\n",
    "    }\n",
    "    \n",
    "    public attack(): void{\n",
    "        console.log(`${this.name} fights with a sword`)\n",
    "    }\n",
    "    \n",
    "    public defense(): void{\n",
    "        console.log(`${this.name} defends with a armor`)\n",
    "    }\n",
    "}\n",
    "class Archer extends Character implements attackMechanisms, defendingmechanisms{\n",
    "    constructor(name:string){\n",
    "        super(name);\n",
    "    }\n",
    "    \n",
    "    public attack(): void{\n",
    "        console.log(`${this.name} fights with a bow and arrow`)\n",
    "    }\n",
    "    \n",
    "    public defense(): void{\n",
    "        console.log(`${this.name} has tunic to defend`)\n",
    "    }\n",
    "}"
   ]
  },
  {
   "cell_type": "code",
   "execution_count": 120,
   "id": "cd9097be",
   "metadata": {
    "tags": []
   },
   "outputs": [
    {
     "name": "stdout",
     "output_type": "stream",
     "text": [
      "Gul dan fights with a club\n",
      "Gul dan defends with a shield\n",
      "Gul dan collected 100 gold.\n"
     ]
    },
    {
     "name": "stderr",
     "output_type": "stream",
     "text": [
      "unknown msg_type: comm_open\n",
      "unknown msg_type: comm_msg\n",
      "unknown msg_type: comm_open\n",
      "unknown msg_type: comm_msg\n"
     ]
    }
   ],
   "source": [
    "const orges = new Orges (\"Gul dan\")\n",
    "orges.attack()\n",
    "orges.defense()\n",
    "orges.collectGold(100)"
   ]
  },
  {
   "cell_type": "code",
   "execution_count": null,
   "id": "90ca524b-3616-4d73-aa5c-a0d356e58375",
   "metadata": {},
   "outputs": [],
   "source": []
  }
 ],
 "metadata": {
  "kernelspec": {
   "display_name": "TypeScript",
   "language": "typescript",
   "name": "tslab"
  },
  "language_info": {
   "codemirror_mode": {
    "mode": "typescript",
    "name": "javascript",
    "typescript": true
   },
   "file_extension": ".ts",
   "mimetype": "text/typescript",
   "name": "typescript",
   "version": "3.7.2"
  }
 },
 "nbformat": 4,
 "nbformat_minor": 5
}
